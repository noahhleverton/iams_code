{
 "cells": [
  {
   "cell_type": "code",
   "execution_count": 6,
   "id": "5fecba7c-9c83-4720-8695-1c94c229de74",
   "metadata": {},
   "outputs": [],
   "source": [
    "import pandas as pd\n",
    "import pyam\n",
    "from format_hist_cap import format_hist_cap\n",
    "from pathlib import Path"
   ]
  },
  {
   "cell_type": "markdown",
   "id": "2c11822b-4f90-4863-b962-c71f13b00108",
   "metadata": {
    "tags": []
   },
   "source": [
    "# Historical Capacity"
   ]
  },
  {
   "cell_type": "code",
   "execution_count": 7,
   "id": "c27a5c87-ab06-45fa-96f4-5dc96ffacf95",
   "metadata": {},
   "outputs": [],
   "source": [
    "DATA = Path.cwd()\n",
    "\n",
    "# All gathered data for historical capacity found in historical_capacity.xlsx\n",
    "hist_cap = format_hist_cap(DATA)"
   ]
  },
  {
   "cell_type": "code",
   "execution_count": 15,
   "id": "6027aa5c-a1fd-4b6b-87b8-85730547ba84",
   "metadata": {},
   "outputs": [],
   "source": [
    "exports = pd.read_excel('historical_capacity_WIP.xlsx',\n",
    "                        sheet_name = 'electricity_exports',\n",
    "                        usecols = ['region', 'technology',\n",
    "                                   'year', 'value', 'unit'])\n",
    "\n",
    "powerplants = pd.read_excel('historical_capacity_WIP.xlsx',\n",
    "                        sheet_name = 'powerplants',\n",
    "                        usecols = ['region', 'technology',\n",
    "                                   'year', 'value', 'unit'])\n",
    "\n",
    "# Concatenate dfs\n",
    "found = pd.concat([exports, powerplants])"
   ]
  },
  {
   "cell_type": "code",
   "execution_count": 163,
   "id": "6a755142-3ec0-47f0-80c0-25c652c123de",
   "metadata": {},
   "outputs": [],
   "source": [
    "# Downscale the rest\n",
    "missing = ['biomass_t_d', 'coal_t_d', 'elec_t_d', 'foil_t_d',\n",
    "           'gas_exp', 'gas_t_d', 'heat_t_d', 'loil_t_d']\n",
    "\n",
    "data = pd.read_excel('MESSAGE_CA__test__v4.xlsx',\n",
    "                         sheet_name = 'historical_new_capacity',\n",
    "                         usecols = ['node_loc', 'technology',\n",
    "                                    'year_vtg', 'value', 'unit'])\n",
    "\n",
    "# Sort to only include missing variables\n",
    "can_data = data[(data['technology'].isin(missing))].copy()\n",
    "\n",
    "# Match naming\n",
    "can_data.rename(columns = {'node_loc': 'region',\n",
    "                           'year_vtg': 'year'}, inplace = True)\n",
    "can_data['unit'] = 'Gwa'\n",
    "\n",
    "can_data.set_index('technology', inplace = True)\n",
    "can_data.sort_index()\n",
    "\n",
    "# Create totals in 2015\n",
    "totals = can_data.groupby('technology').sum()\n",
    "totals['region'] = 'Canada'\n",
    "totals['year'] = 2015\n",
    "totals['unit'] = 'Gwa'\n",
    "totals.reset_index(inplace = True)\n",
    "totals = totals[['region', 'technology', 'year', 'value', 'unit']]"
   ]
  },
  {
   "cell_type": "code",
   "execution_count": 165,
   "id": "1607a2ee-cb27-4a7f-aac5-99cb16a2d8c5",
   "metadata": {},
   "outputs": [],
   "source": [
    "# Append downscaling proxies\n",
    "downscale = totals.append(powerplants)\n",
    "\n",
    "# Change to pyam df to use downscaling method\n",
    "down_iam = pyam.IamDataFrame(downscale, model = 'MESSAGEix',\n",
    "                             scenario = 'none',\n",
    "                             variable = 'technology')"
   ]
  },
  {
   "cell_type": "code",
   "execution_count": 168,
   "id": "7feef89a-cdcd-4bab-a896-f81a477f8f24",
   "metadata": {},
   "outputs": [],
   "source": [
    "# Downscaling\n",
    "down_iam.downscale_region('biomass_t_d', region = 'Canada', proxy = 'bio_ppl', append = True)\n",
    "down_iam.downscale_region('coal_t_d', region = 'Canada', proxy = 'coal_ppl', append = True)\n",
    "down_iam.downscale_region('elec_t_d', region = 'Canada', proxy = 'hydro_lc', append = True)\n",
    "down_iam.downscale_region('foil_t_d', region = 'Canada', proxy = 'foil_ppl', append = True)\n",
    "down_iam.downscale_region('gas_exp', region = 'Canada', proxy = 'gas_ppl', append = True)\n",
    "down_iam.downscale_region('gas_t_d', region = 'Canada', proxy = 'gas_ppl', append = True)\n",
    "down_iam.downscale_region('heat_t_d', region = 'Canada', proxy = 'hydro_lc', append = True)\n",
    "down_iam.downscale_region('loil_t_d', region = 'Canada', proxy = 'loil_ppl', append = True)"
   ]
  },
  {
   "cell_type": "code",
   "execution_count": 176,
   "id": "f035af90-6223-4f64-b58a-f628dd71a51b",
   "metadata": {},
   "outputs": [],
   "source": [
    "down = down_iam.as_pandas()\n",
    "down = down[['region', 'variable', 'year', 'value', 'unit']]"
   ]
  },
  {
   "cell_type": "code",
   "execution_count": 179,
   "id": "2f2a6465-1bc7-4e7a-856b-0be9fd8f24a0",
   "metadata": {},
   "outputs": [],
   "source": [
    "# Create MESSAGE compatible df\n",
    "hist_cap = make_df('historical_new_capacity',\n",
    "                   node_loc = down['region'],\n",
    "                   technology = down['variable'],\n",
    "                   year_vtg = down['year'],\n",
    "                   value = down['value'],\n",
    "                   unit = 'Gwa')\n",
    "\n",
    "return hist_cap"
   ]
  }
 ],
 "metadata": {
  "kernelspec": {
   "display_name": "Python 3 (ipykernel)",
   "language": "python",
   "name": "python3"
  },
  "language_info": {
   "codemirror_mode": {
    "name": "ipython",
    "version": 3
   },
   "file_extension": ".py",
   "mimetype": "text/x-python",
   "name": "python",
   "nbconvert_exporter": "python",
   "pygments_lexer": "ipython3",
   "version": "3.9.7"
  }
 },
 "nbformat": 4,
 "nbformat_minor": 5
}
