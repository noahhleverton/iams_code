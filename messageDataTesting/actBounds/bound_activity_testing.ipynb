{
 "cells": [
  {
   "cell_type": "code",
   "execution_count": 2,
   "id": "21cd2c65",
   "metadata": {},
   "outputs": [
    {
     "data": {
      "application/javascript": [
       "IPython.OutputArea.prototype._should_scroll = function(lines) { return false; }"
      ],
      "text/plain": [
       "<IPython.core.display.Javascript object>"
      ]
     },
     "metadata": {},
     "output_type": "display_data"
    }
   ],
   "source": [
    "import pyam\n",
    "import pandas as pd\n",
    "from message_ix import make_df"
   ]
  },
  {
   "cell_type": "markdown",
   "id": "aab4a1c0",
   "metadata": {},
   "source": [
    "## Downscaling"
   ]
  },
  {
   "cell_type": "code",
   "execution_count": null,
   "id": "194edb6c",
   "metadata": {},
   "outputs": [],
   "source": [
    "data = pd.read_excel('pop_gdp_proj.xlsx',\n",
    "                     sheet_name = 'downscaling_stuff').set_index('region').sort_index().reset_index()"
   ]
  },
  {
   "cell_type": "code",
   "execution_count": null,
   "id": "2218414e",
   "metadata": {},
   "outputs": [],
   "source": [
    "pyam_data = pyam.IamDataFrame(data,\n",
    "                              model = 'MESSAGEix',\n",
    "                              scenario = 'none')"
   ]
  },
  {
   "cell_type": "code",
   "execution_count": null,
   "id": "53b14f4c",
   "metadata": {
    "scrolled": true
   },
   "outputs": [],
   "source": [
    "pyam_data.downscale_region('GDP', region = 'Canada', proxy = 'Population', append = True)"
   ]
  },
  {
   "cell_type": "code",
   "execution_count": null,
   "id": "38a193d7",
   "metadata": {},
   "outputs": [],
   "source": [
    "data = pyam_data.as_pandas()"
   ]
  },
  {
   "cell_type": "code",
   "execution_count": null,
   "id": "cab73606",
   "metadata": {},
   "outputs": [],
   "source": [
    "data = data[['region', 'year', 'variable', 'value', 'unit']]"
   ]
  },
  {
   "cell_type": "code",
   "execution_count": null,
   "id": "79d191a9",
   "metadata": {},
   "outputs": [],
   "source": [
    "data = data[(data['variable'] == 'GDP')]"
   ]
  },
  {
   "cell_type": "code",
   "execution_count": null,
   "id": "cf8fedbd",
   "metadata": {},
   "outputs": [],
   "source": [
    "data.to_csv('downscaled_gdp.csv')"
   ]
  },
  {
   "cell_type": "markdown",
   "id": "faa808aa",
   "metadata": {},
   "source": [
    "## Main Import"
   ]
  },
  {
   "cell_type": "code",
   "execution_count": 46,
   "id": "589ef41a",
   "metadata": {},
   "outputs": [],
   "source": [
    "msg_years = list(range(1990, 2061, 5))\n",
    "\n",
    "data = pd.read_excel('pop_gdp_proj.xlsx',\n",
    "                     sheet_name = 'pop_gdp_proj')\n",
    "\n",
    "msg_data = data[(data['year'].isin(msg_years)) &\n",
    "                (data['region'] != 'NWT and Nunavut')].set_index(['region', 'variable', 'year']).sort_index().reset_index()"
   ]
  },
  {
   "cell_type": "code",
   "execution_count": 47,
   "id": "6b5be3a9",
   "metadata": {},
   "outputs": [],
   "source": [
    "gdp_pop_bound = make_df('bound_activity_lo',\n",
    "                        node_loc = msg_data['region'],\n",
    "                        technology = msg_data['variable'],\n",
    "                        year_act = msg_data['year'],\n",
    "                        mode = 'P',\n",
    "                        time = 'year',\n",
    "                        value = msg_data['value'],\n",
    "                        unit = msg_data['unit'])"
   ]
  },
  {
   "cell_type": "code",
   "execution_count": 48,
   "id": "39f9deab",
   "metadata": {},
   "outputs": [
    {
     "data": {
      "text/html": [
       "<div>\n",
       "<style scoped>\n",
       "    .dataframe tbody tr th:only-of-type {\n",
       "        vertical-align: middle;\n",
       "    }\n",
       "\n",
       "    .dataframe tbody tr th {\n",
       "        vertical-align: top;\n",
       "    }\n",
       "\n",
       "    .dataframe thead th {\n",
       "        text-align: right;\n",
       "    }\n",
       "</style>\n",
       "<table border=\"1\" class=\"dataframe\">\n",
       "  <thead>\n",
       "    <tr style=\"text-align: right;\">\n",
       "      <th></th>\n",
       "      <th>node_loc</th>\n",
       "      <th>technology</th>\n",
       "      <th>year_act</th>\n",
       "      <th>mode</th>\n",
       "      <th>time</th>\n",
       "      <th>value</th>\n",
       "      <th>unit</th>\n",
       "    </tr>\n",
       "  </thead>\n",
       "  <tbody>\n",
       "    <tr>\n",
       "      <th>0</th>\n",
       "      <td>Alberta</td>\n",
       "      <td>GDP</td>\n",
       "      <td>1990</td>\n",
       "      <td>P</td>\n",
       "      <td>year</td>\n",
       "      <td>80.638697</td>\n",
       "      <td>Million 2005 USD</td>\n",
       "    </tr>\n",
       "    <tr>\n",
       "      <th>1</th>\n",
       "      <td>Alberta</td>\n",
       "      <td>GDP</td>\n",
       "      <td>1995</td>\n",
       "      <td>P</td>\n",
       "      <td>year</td>\n",
       "      <td>92.434024</td>\n",
       "      <td>Million 2005 USD</td>\n",
       "    </tr>\n",
       "    <tr>\n",
       "      <th>2</th>\n",
       "      <td>Alberta</td>\n",
       "      <td>GDP</td>\n",
       "      <td>2000</td>\n",
       "      <td>P</td>\n",
       "      <td>year</td>\n",
       "      <td>119.873159</td>\n",
       "      <td>Million 2005 USD</td>\n",
       "    </tr>\n",
       "    <tr>\n",
       "      <th>3</th>\n",
       "      <td>Alberta</td>\n",
       "      <td>GDP</td>\n",
       "      <td>2005</td>\n",
       "      <td>P</td>\n",
       "      <td>year</td>\n",
       "      <td>217.884034</td>\n",
       "      <td>Million 2005 USD</td>\n",
       "    </tr>\n",
       "    <tr>\n",
       "      <th>4</th>\n",
       "      <td>Alberta</td>\n",
       "      <td>GDP</td>\n",
       "      <td>2010</td>\n",
       "      <td>P</td>\n",
       "      <td>year</td>\n",
       "      <td>237.564706</td>\n",
       "      <td>Million 2005 USD</td>\n",
       "    </tr>\n",
       "    <tr>\n",
       "      <th>...</th>\n",
       "      <td>...</td>\n",
       "      <td>...</td>\n",
       "      <td>...</td>\n",
       "      <td>...</td>\n",
       "      <td>...</td>\n",
       "      <td>...</td>\n",
       "      <td>...</td>\n",
       "    </tr>\n",
       "    <tr>\n",
       "      <th>415</th>\n",
       "      <td>Yukon</td>\n",
       "      <td>Population</td>\n",
       "      <td>2040</td>\n",
       "      <td>P</td>\n",
       "      <td>year</td>\n",
       "      <td>0.048500</td>\n",
       "      <td>million persons</td>\n",
       "    </tr>\n",
       "    <tr>\n",
       "      <th>416</th>\n",
       "      <td>Yukon</td>\n",
       "      <td>Population</td>\n",
       "      <td>2045</td>\n",
       "      <td>P</td>\n",
       "      <td>year</td>\n",
       "      <td>0.049400</td>\n",
       "      <td>million persons</td>\n",
       "    </tr>\n",
       "    <tr>\n",
       "      <th>417</th>\n",
       "      <td>Yukon</td>\n",
       "      <td>Population</td>\n",
       "      <td>2050</td>\n",
       "      <td>P</td>\n",
       "      <td>year</td>\n",
       "      <td>0.050200</td>\n",
       "      <td>million persons</td>\n",
       "    </tr>\n",
       "    <tr>\n",
       "      <th>418</th>\n",
       "      <td>Yukon</td>\n",
       "      <td>Population</td>\n",
       "      <td>2055</td>\n",
       "      <td>P</td>\n",
       "      <td>year</td>\n",
       "      <td>0.051013</td>\n",
       "      <td>million persons</td>\n",
       "    </tr>\n",
       "    <tr>\n",
       "      <th>419</th>\n",
       "      <td>Yukon</td>\n",
       "      <td>Population</td>\n",
       "      <td>2060</td>\n",
       "      <td>P</td>\n",
       "      <td>year</td>\n",
       "      <td>0.051839</td>\n",
       "      <td>million persons</td>\n",
       "    </tr>\n",
       "  </tbody>\n",
       "</table>\n",
       "<p>420 rows × 7 columns</p>\n",
       "</div>"
      ],
      "text/plain": [
       "    node_loc  technology  year_act mode  time       value              unit\n",
       "0    Alberta         GDP      1990    P  year   80.638697  Million 2005 USD\n",
       "1    Alberta         GDP      1995    P  year   92.434024  Million 2005 USD\n",
       "2    Alberta         GDP      2000    P  year  119.873159  Million 2005 USD\n",
       "3    Alberta         GDP      2005    P  year  217.884034  Million 2005 USD\n",
       "4    Alberta         GDP      2010    P  year  237.564706  Million 2005 USD\n",
       "..       ...         ...       ...  ...   ...         ...               ...\n",
       "415    Yukon  Population      2040    P  year    0.048500   million persons\n",
       "416    Yukon  Population      2045    P  year    0.049400   million persons\n",
       "417    Yukon  Population      2050    P  year    0.050200   million persons\n",
       "418    Yukon  Population      2055    P  year    0.051013   million persons\n",
       "419    Yukon  Population      2060    P  year    0.051839   million persons\n",
       "\n",
       "[420 rows x 7 columns]"
      ]
     },
     "execution_count": 48,
     "metadata": {},
     "output_type": "execute_result"
    }
   ],
   "source": [
    "gdp_pop_bound"
   ]
  },
  {
   "cell_type": "code",
   "execution_count": null,
   "id": "c7861328",
   "metadata": {},
   "outputs": [],
   "source": []
  }
 ],
 "metadata": {
  "kernelspec": {
   "display_name": "Python 3 (ipykernel)",
   "language": "python",
   "name": "python3"
  },
  "language_info": {
   "codemirror_mode": {
    "name": "ipython",
    "version": 3
   },
   "file_extension": ".py",
   "mimetype": "text/x-python",
   "name": "python",
   "nbconvert_exporter": "python",
   "pygments_lexer": "ipython3",
   "version": "3.9.7"
  }
 },
 "nbformat": 4,
 "nbformat_minor": 5
}
