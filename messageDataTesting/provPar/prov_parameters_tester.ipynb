{
 "cells": [
  {
   "cell_type": "code",
   "execution_count": 47,
   "id": "5513dccc-9cb4-427b-a5c4-59338bd1838d",
   "metadata": {},
   "outputs": [],
   "source": [
    "from prov_parameters import generator\n",
    "import numpy as np\n",
    "import pandas as pd\n",
    "import ixmp as ix\n",
    "import message_ix"
   ]
  },
  {
   "cell_type": "code",
   "execution_count": 2,
   "id": "22a01603-b009-49fc-9b22-4d462bbac0ac",
   "metadata": {},
   "outputs": [
    {
     "name": "stdout",
     "output_type": "stream",
     "text": [
      "2021-11-23 10:22:22,667  INFO at.ac.iiasa.ixmp.Platform:146 - Welcome to the IX modeling platform!\n",
      "2021-11-23 10:22:22,669  INFO at.ac.iiasa.ixmp.Platform:147 -  connected to database 'jdbc:hsqldb:file:/home/noah/.local/share/ixmp/localdb/default' (user: ixmp)...\n"
     ]
    }
   ],
   "source": [
    "mp = ix.Platform()\n",
    "\n",
    "msg = message_ix.Scenario(mp, 'MESSAGEix', 'baseline',\n",
    "                          version = 'new')"
   ]
  },
  {
   "cell_type": "code",
   "execution_count": 6,
   "id": "93a83046",
   "metadata": {},
   "outputs": [],
   "source": [
    "msg.read_excel('MESSAGE_CA__test__v5.xlsx',\n",
    "               add_units = False,\n",
    "               commit_steps = False,\n",
    "               init_items = True)"
   ]
  },
  {
   "cell_type": "code",
   "execution_count": 7,
   "id": "0d70ddfc",
   "metadata": {},
   "outputs": [],
   "source": [
    "msg.check_out()"
   ]
  },
  {
   "cell_type": "code",
   "execution_count": 64,
   "id": "1491ffdd",
   "metadata": {},
   "outputs": [],
   "source": [
    "provinces = ['Alberta',\n",
    "            'BritishColumbia',\n",
    "            'Manitoba',\n",
    "            'NewBrunswick',\n",
    "            'NewfoundlandandLabrador',\n",
    "            'NorthwestTerritories',\n",
    "            'NovaScotia',\n",
    "            'Nunavut',\n",
    "            'Ontario',\n",
    "            'PrinceEdwardIsland',\n",
    "            'Quebec',\n",
    "            'Saskatchewan',\n",
    "            'Yukon']\n",
    "\n",
    "msg.add_spatial_sets({'country': {'Canada': {'province': provinces}}})"
   ]
  },
  {
   "cell_type": "code",
   "execution_count": 17,
   "id": "de641beb",
   "metadata": {},
   "outputs": [],
   "source": [
    "# All (non-empty) parameters of the Canadian model\n",
    "total_pars = [par for par in msg.par_list() if not msg.par(par).empty]\n",
    "\n",
    "# Parameters already found with data\n",
    "found_pars = ['demand', 'historical_activity', 'historical_new_capacity']\n",
    "\n",
    "# Economic parameters to skip for now\n",
    "econ_pars = ['MERtoPPP', \n",
    "             'abs_cost_activity_soft_lo',\n",
    "             'abs_cost_activity_soft_up',\n",
    "             'cost_MESSAGE',\n",
    "             'depr',\n",
    "             'drate',\n",
    "             'esub',\n",
    "             'fix_cost',\n",
    "             'gdp_calibrate',\n",
    "             'grow',\n",
    "             'interestrate',\n",
    "             'inv_cost',\n",
    "             'kgdp',\n",
    "             'kpvs',\n",
    "             'level_cost_activity_soft_lo',\n",
    "             'level_cost_activity_soft_up',\n",
    "             'level_cost_new_capacity_soft_up',\n",
    "             'price_MESSAGE',\n",
    "             'relation_cost',\n",
    "             'resource_cost',\n",
    "             'var_cost']\n",
    "\n",
    "# Filter out un-needed parameters\n",
    "filtered = [x for x in total_pars if x not in found_pars if x not in econ_pars]\n",
    "filtered.sort()"
   ]
  },
  {
   "cell_type": "code",
   "execution_count": 66,
   "id": "375b6f9e",
   "metadata": {},
   "outputs": [],
   "source": [
    "## Generate provincial dataframes\n",
    "# Create dictionary to store node and year data for parameters\n",
    "pars_to_change = {}\n",
    "\n",
    "# Iterate through parameters\n",
    "for par in filtered:\n",
    "    \n",
    "    node_stuff = []\n",
    "    year_stuff = []\n",
    "\n",
    "    # Iterate through columns of parameter dataframe\n",
    "    for col in msg.par(par).columns:\n",
    "\n",
    "        # Check for node column (or some variation including string 'node')\n",
    "        if 'node' in col:\n",
    "            node_stuff.append(col)\n",
    "        \n",
    "        # Check for year column, make sure it contains integers\n",
    "        if 'year' in col and msg.par(par).dtypes[col] == 'int64':\n",
    "            year_stuff.append(col)\n",
    "\n",
    "    if len(node_stuff) != 0:\n",
    "        # Add parameter and column values to dictionary\n",
    "        pars_to_change[par] = [node_stuff, year_stuff]"
   ]
  },
  {
   "cell_type": "code",
   "execution_count": 69,
   "id": "20b36224",
   "metadata": {},
   "outputs": [],
   "source": [
    "# Create dictionary with key = \"parameter name\" and value = <provincial dataframe>\n",
    "dfs = dict.fromkeys(pars_to_change.keys())\n",
    "\n",
    "for par in dfs:    \n",
    "    # Copy canadian dataframe\n",
    "    can_df = msg.par(par).copy()\n",
    "    \n",
    "    # Only need data for years after (and including) 2010\n",
    "    for year_data in pars_to_change[par][1]:\n",
    "        can_df = can_df[can_df[year_data] >= 2010]\n",
    "    \n",
    "    dfs[par] = can_df\n",
    "    \n",
    "    for prov in provinces:\n",
    "        \n",
    "        # Create copy of Canadian dataframe\n",
    "        df = msg.par(par).copy()\n",
    "        \n",
    "        # Only need data for years after (and including) 2010\n",
    "        for year_data in pars_to_change[par][1]:\n",
    "            \n",
    "            df = df[df[year_data] >= 2010]\n",
    "\n",
    "        # Change node values to province\n",
    "        for node_data in pars_to_change[par][0]:\n",
    "            df[node_data] = region\n",
    "\n",
    "        # Append provincial data to parameter dataframe\n",
    "        dfs[par] = dfs[par].append(df)"
   ]
  }
 ],
 "metadata": {
  "kernelspec": {
   "display_name": "Python 3 (ipykernel)",
   "language": "python",
   "name": "python3"
  },
  "language_info": {
   "codemirror_mode": {
    "name": "ipython",
    "version": 3
   },
   "file_extension": ".py",
   "mimetype": "text/x-python",
   "name": "python",
   "nbconvert_exporter": "python",
   "pygments_lexer": "ipython3",
   "version": "3.9.7"
  }
 },
 "nbformat": 4,
 "nbformat_minor": 5
}
