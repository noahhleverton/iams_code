{
 "cells": [
  {
   "cell_type": "code",
   "execution_count": 9,
   "id": "67ab1372",
   "metadata": {},
   "outputs": [],
   "source": [
    "from pathlib import Path\n",
    "import pandas as pd\n",
    "import matplotlib.pyplot as plt\n",
    "import numpy as np"
   ]
  },
  {
   "cell_type": "code",
   "execution_count": 10,
   "id": "4cf326d8",
   "metadata": {},
   "outputs": [],
   "source": [
    "DATA = Path().cwd().parent / 'common_data'"
   ]
  },
  {
   "cell_type": "markdown",
   "id": "b2a77892",
   "metadata": {},
   "source": [
    "# Building Demand in GCAM\n",
    "The following is my attempt to follow GCAM's method for calculating energy demand for buildings"
   ]
  },
  {
   "cell_type": "markdown",
   "id": "47c09c7b",
   "metadata": {},
   "source": [
    "### Constants"
   ]
  },
  {
   "cell_type": "code",
   "execution_count": 7,
   "id": "155ccf37",
   "metadata": {},
   "outputs": [],
   "source": [
    "# Satiation level of floor space demand (I chose these based off the historical data)\n",
    "S_FS_R = 65\n",
    "S_FS_C = 24\n",
    "\n",
    "# Price elasticity of energy services (all GCAM provides for the building sector is 'Fuel preference elasticies', so I averaged those)\n",
    "BETA_R = -0.630769230769231\n",
    "BETA_C = -0.381818181818182\n",
    "\n",
    "# Ratio of building surface area to floorspace area (no idea about this one, \n",
    "# I simply did (4 walls + 1 ceiling + 1 floor)/1 floor, considering all to be the same area (which is ridiculous but whatever)\n",
    "R = 6\n",
    "\n",
    "# Historical years\n",
    "HIST_YEARS = list(range(2000, 2019))\n",
    "\n",
    "# Projection time horizon (5 year steps)\n",
    "PROJ_YEARS = list(range(2020, 2101, 5))"
   ]
  },
  {
   "cell_type": "markdown",
   "id": "d40b2f28",
   "metadata": {},
   "source": [
    "### Import data from excel sheet\n",
    "This includes historical data for residential and commercial floor space, as well as data for residential/commercial space heating/cooling"
   ]
  },
  {
   "cell_type": "code",
   "execution_count": 13,
   "id": "6fefba74",
   "metadata": {},
   "outputs": [],
   "source": [
    "gdp_pop_data = pd.read_excel(DATA / 'gdp_pop.xlsx',\n",
    "                            sheet_name = 'data',\n",
    "                            usecols = ['region', 'variable', 'year', 'value', 'unit'])\n",
    "gdp_pop_data.set_index(['variable', 'year'], inplace = True)\n",
    "gdp_pop_data = data[['value', 'unit']]"
   ]
  },
  {
   "cell_type": "code",
   "execution_count": null,
   "id": "d40779e8",
   "metadata": {},
   "outputs": [],
   "source": [
    "data = pd.read_excel('data.xlsx',\n",
    "                     sheet_name = 'data',\n",
    "                     usecols = ['region', 'variable', 'year', 'value', 'unit'])\n",
    "data.set_index(['variable', 'year'], inplace = True)\n",
    "data = data[['value', 'unit']]\n",
    "\n",
    "# Import historical floorspace demand data\n",
    "res_floor_hist = data.loc[('res_floor_demand', slice(None)), :]\n",
    "com_floor_hist = data.loc[('com_floor_demand', slice(None)), :]\n",
    "\n",
    "# Import historical space heating and cooling demand data\n",
    "res_heat_hist = data.loc[('res_heat_intensity', slice(None)), :]\n",
    "res_cool_hist = data.loc[('res_cool_intensity', slice(None)), :]\n",
    "com_heat_hist = data.loc[('com_heat_intensity', slice(None)), :]\n",
    "com_cool_hist = data.loc[('com_cool_intensity', slice(None)), :]\n",
    "\n",
    "# Income\n",
    "income_hist = gdp_pop_data\n",
    "income2018 = float(income_hist.loc[('income', 2018)]['value'])"
   ]
  },
  {
   "cell_type": "code",
   "execution_count": null,
   "id": "1e214238",
   "metadata": {},
   "outputs": [],
   "source": [
    "income_hist"
   ]
  },
  {
   "cell_type": "markdown",
   "id": "c9e1ca07",
   "metadata": {},
   "source": [
    "## Historical Plotting"
   ]
  },
  {
   "cell_type": "code",
   "execution_count": null,
   "id": "e5f066f8",
   "metadata": {},
   "outputs": [],
   "source": [
    "# Want to plot both residential and commercial historical demand here\n",
    "fig, ax = plt.subplots(figsize = (12, 10))\n",
    "ax.set_xticks(HIST_YEARS)\n",
    "ax.plot(HIST_YEARS, res_floor_hist['value'],\n",
    "        label = 'Residential',\n",
    "        c = 'blue')\n",
    "ax.plot(HIST_YEARS, com_floor_hist['value'],\n",
    "        label = 'Commercial',\n",
    "        c = 'blue',\n",
    "        ls = '--')\n",
    "ax.legend()\n",
    "ax.set(title = 'Floor Space Demands (Canada)',\n",
    "       xlabel = 'Year',\n",
    "       ylabel = 'Floorspace demand (m$^2$/person)');"
   ]
  },
  {
   "cell_type": "code",
   "execution_count": null,
   "id": "cbd0db5b",
   "metadata": {},
   "outputs": [],
   "source": [
    "fig, ax = plt.subplots(figsize = (10, 12))\n",
    "ax.set_xticks(HIST_YEARS)\n",
    "ax.plot(HIST_YEARS, res_heat_hist['value'],\n",
    "        label = 'Residential Space Heating',\n",
    "        c = 'red')\n",
    "ax.plot(HIST_YEARS, res_cool_hist['value'],\n",
    "        label = 'Residential Space Cooling',\n",
    "        c = 'blue')\n",
    "ax.plot(HIST_YEARS, com_heat_hist['value'],\n",
    "        label = 'Commercial Space Heating',\n",
    "        c = 'red',\n",
    "        ls = '--')\n",
    "ax.plot(HIST_YEARS, com_cool_hist['value'],\n",
    "        label = 'Commercial Space Cooling',\n",
    "        c = 'blue',\n",
    "        ls = '--')\n",
    "ax.legend()\n",
    "ax.set(title = 'Building Service Demands (Canada)',\n",
    "       xlabel = 'Year',\n",
    "       ylabel = 'Service Demand per unit floorspace (GJ/m$^2$)');"
   ]
  },
  {
   "cell_type": "markdown",
   "id": "b79b72d5",
   "metadata": {},
   "source": [
    "## Base year calibration\n",
    "For simplicity's sake I assume negligible change between 2018 and 2020, and use 2018 values for my 2020 base projection year"
   ]
  },
  {
   "cell_type": "markdown",
   "id": "ddbd1f65",
   "metadata": {},
   "source": [
    "### Floor space"
   ]
  },
  {
   "cell_type": "code",
   "execution_count": null,
   "id": "6931f89c",
   "metadata": {},
   "outputs": [],
   "source": [
    "res_floor2018 = float(res_floor_hist.loc[(slice(None), 2018),:]['value'])\n",
    "com_floor2018 = float(com_floor_hist.loc[(slice(None), 2018),:]['value'])"
   ]
  },
  {
   "cell_type": "markdown",
   "id": "bbca9502",
   "metadata": {},
   "source": [
    "### Residential/Commercial Service Demands"
   ]
  },
  {
   "cell_type": "code",
   "execution_count": null,
   "id": "6c8e1624",
   "metadata": {},
   "outputs": [],
   "source": [
    "res_heat2018 = float(res_heat_hist.loc[(slice(None), 2018), :]['value'])\n",
    "res_cool2018 = float(res_cool_hist.loc[(slice(None), 2018), :]['value'])\n",
    "com_heat2018 = float(com_heat_hist.loc[(slice(None), 2018), :]['value'])\n",
    "com_cool2018 = float(com_cool_hist.loc[(slice(None), 2018), :]['value'])"
   ]
  },
  {
   "cell_type": "markdown",
   "id": "c80357a5",
   "metadata": {},
   "source": [
    "### Internal Gains\n",
    "Clarke et al: \"Internal gains are calculated in each region as 50% of the sum of all fuel consumption used for 'other' (not heating or cooling) services"
   ]
  },
  {
   "cell_type": "code",
   "execution_count": null,
   "id": "c6edb07d",
   "metadata": {},
   "outputs": [],
   "source": [
    "res_ig = data.loc[('res_other_intensity/2', slice(None)), :]\n",
    "com_ig = data.loc[('com_other_intensity/2', slice(None)), :]\n",
    "\n",
    "IG_R2018 = float(res_ig.loc[(slice(None), 2018), :]['value'])\n",
    "IG_C2018 = float(com_ig.loc[(slice(None), 2018), :]['value'])\n",
    "\n",
    "# Since the internal gain scaler is not specified in\n",
    "# Clarke et al, I used the number of summer and winter months to find it\n",
    "# Summer months: [May: August] inclusive\n",
    "# Winter months: [November:February] inclusive\n",
    "# So, ratio of summmer months to total = 1/3\n",
    "# and ratio of winter to total = 1/3\n",
    "# So when space cooling is calculated, IG applies 1/3 of the time (summer months)\n",
    "# Same for space heating"
   ]
  },
  {
   "cell_type": "markdown",
   "id": "02308105",
   "metadata": {},
   "source": [
    "### Shell Conductivity (U-value)\n",
    "Given in Fig S3 of Clarke et al"
   ]
  },
  {
   "cell_type": "code",
   "execution_count": null,
   "id": "85ef897c",
   "metadata": {},
   "outputs": [],
   "source": [
    "eta = np.linspace(0.95, 0.7, len(PROJ_YEARS))"
   ]
  },
  {
   "cell_type": "markdown",
   "id": "797882e2",
   "metadata": {},
   "source": [
    "### HDD/CDD\n",
    "Start with reference scenario, in which HDD and CDD do not change over the model horizon"
   ]
  },
  {
   "cell_type": "code",
   "execution_count": null,
   "id": "c3ab7ed0",
   "metadata": {},
   "outputs": [],
   "source": [
    "HDD = 4300\n",
    "CDD = 200"
   ]
  },
  {
   "cell_type": "markdown",
   "id": "035c9e55",
   "metadata": {},
   "source": [
    "### Satiated demand\n",
    "\"The satiation level is assumed to be the maximum of the actual observed base-year demand levels, and the satiation level in the USA for the corresponding sector and service, modified for the HDD/CDD difference\" (pp. 10 of supplementary to Clarke et al)"
   ]
  },
  {
   "cell_type": "code",
   "execution_count": null,
   "id": "92f725c6",
   "metadata": {},
   "outputs": [],
   "source": [
    "S_CAN = lambda S_USA, DD_CAN, DD_USA: S_USA*(DD_CAN/DD_USA)\n",
    "\n",
    "# HDD/CDD collected from pp. 672\n",
    "HDD_USA = 2500\n",
    "CDD_USA = 800\n",
    "\n",
    "# Satiation levels collected from pp. 11 of supplementary\n",
    "S_USA_RH = 0.24\n",
    "S_USA_CH = 0.25\n",
    "S_USA_RC = 0.16\n",
    "S_USA_CC = 0.29\n",
    "\n",
    "# Residential heating\n",
    "S_RH = max(res_heat2018, S_CAN(S_USA_RH, HDD, HDD_USA))\n",
    "\n",
    "# Residential cooling\n",
    "S_RC = max(res_cool2018, S_CAN(S_USA_RC, CDD, CDD_USA))\n",
    "           \n",
    "# Commercial heating\n",
    "S_CH = max(com_heat2018, S_CAN(S_USA_CH, HDD, HDD_USA))\n",
    "           \n",
    "# Commercial cooling\n",
    "S_CC = max(com_cool2018, S_CAN(S_USA_CC, CDD, CDD_USA))"
   ]
  },
  {
   "cell_type": "markdown",
   "id": "7dc86989",
   "metadata": {},
   "source": [
    "### Find K"
   ]
  },
  {
   "cell_type": "code",
   "execution_count": null,
   "id": "43310122",
   "metadata": {},
   "outputs": [],
   "source": [
    "# 1/3 is my internal gain scaler, detailed above in 'Internal Gains' section\n",
    "K = lambda S, DD, IG : S/(DD*eta[0]*R*1/3*IG)"
   ]
  },
  {
   "cell_type": "code",
   "execution_count": null,
   "id": "574ccf63",
   "metadata": {},
   "outputs": [],
   "source": [
    "# Res heat\n",
    "K_RH = K(S_RH, HDD, IG_R2018)\n",
    "\n",
    "# Res cool\n",
    "K_RC = K(S_RC, CDD, IG_R2018)\n",
    "\n",
    "# Com heat\n",
    "K_CH = K(S_CH, HDD, IG_C2018)\n",
    "\n",
    "# Com cool\n",
    "K_CC = K(S_CC, CDD, IG_C2018)"
   ]
  },
  {
   "cell_type": "markdown",
   "id": "4e7c686e",
   "metadata": {},
   "source": [
    "### Energy service price averages\n",
    "Fig 6 (pp. 674)"
   ]
  },
  {
   "cell_type": "code",
   "execution_count": null,
   "id": "e8cfd4bb",
   "metadata": {},
   "outputs": [],
   "source": [
    "## Both residential and commerical space heating are assumed to be relatively constant over the projection range\n",
    "\n",
    "# Create lists to hold prices\n",
    "p_res_heat = np.array([20]*len(PROJ_YEARS))\n",
    "p_res_cool = np.zeros(len(PROJ_YEARS))\n",
    "p_com_heat = np.array([30]*len(PROJ_YEARS))\n",
    "p_com_cool = np.zeros(len(PROJ_YEARS))\n",
    "\n",
    "# Residential\n",
    "# 5-year rate of change for residential space cooling\n",
    "res_cool_rate = (1 - 0.22)**(1/len(PROJ_YEARS))\n",
    "\n",
    "# Commercial\n",
    "# 5-year rate of change for commercial space cooling\n",
    "com_cool_rate = (1 - 0.28)**(1/len(PROJ_YEARS))\n",
    "\n",
    "# Initial values from Fig. 6 in Clarke et al.\n",
    "p_res_cool[0] = 38\n",
    "p_com_cool[0] = 21\n",
    "\n",
    "# Generate cooling trajectories\n",
    "for index in range(1, len(PROJ_YEARS)):\n",
    "    p_res_cool[index] = p_res_cool[index - 1] * res_cool_rate\n",
    "    p_com_cool[index] = p_com_cool[index - 1] * com_cool_rate\n",
    "\n",
    "p_res = p_res_heat + p_res_cool\n",
    "p_com = p_com_heat + p_com_cool"
   ]
  },
  {
   "cell_type": "code",
   "execution_count": null,
   "id": "711b6744",
   "metadata": {},
   "outputs": [],
   "source": [
    "# Plot of prices\n",
    "fig, ax = plt.subplots()\n",
    "# ax.plot(proj_years, p_res_heat)\n",
    "ax.plot(PROJ_YEARS, p_res_heat, color = 'r', label = 'Residential heat')\n",
    "ax.plot(PROJ_YEARS, p_res_cool, color = 'b', label = 'Residential cooling')\n",
    "ax.plot(PROJ_YEARS, p_com_heat, linestyle = '--', color = 'r', label = 'Commercial heat')\n",
    "ax.plot(PROJ_YEARS, p_com_cool, linestyle = '--', color = 'b', label = 'Commercial cooling')\n",
    "plt.xlabel('Year')\n",
    "plt.ylabel('Price of service (2010 USD/GJ)')\n",
    "plt.legend()\n",
    "plt.show()"
   ]
  },
  {
   "cell_type": "markdown",
   "id": "6f23c20c",
   "metadata": {},
   "source": [
    "### Find mu"
   ]
  },
  {
   "cell_type": "code",
   "execution_count": null,
   "id": "5a53fdcd",
   "metadata": {},
   "outputs": [],
   "source": [
    "np.log(1-(res_heat2018/((K_RH*HDD*eta[0]*R)-(IG_R2018/3))))"
   ]
  },
  {
   "cell_type": "code",
   "execution_count": null,
   "id": "819a028c",
   "metadata": {},
   "outputs": [],
   "source": [
    "mu = lambda p, d, K, DD, IG : -(np.log(2)*income2018)/(p*np.log(1-(d/(K*((DD*eta[0]*R)-(IG/3))))))\n",
    "\n",
    "MU_RH = mu(p_res_heat[0], res_heat2018, K_RH, HDD, IG_R2018)\n",
    "MU_RC = mu(p_res_cool[0], res_cool2018, K_RC, CDD, IG_R2018)\n",
    "MU_CH = mu(p_com_heat[0], com_heat2018, K_CH, HDD, IG_C2018)\n",
    "MU_CC = mu(p_com_cool[0], com_cool2018, K_CC, CDD, IG_C2018)"
   ]
  },
  {
   "cell_type": "markdown",
   "id": "d47ccefe",
   "metadata": {},
   "source": [
    "## Projections"
   ]
  },
  {
   "cell_type": "markdown",
   "id": "d9e73c5a",
   "metadata": {},
   "source": [
    "### Income"
   ]
  },
  {
   "cell_type": "code",
   "execution_count": null,
   "id": "2e41b9a6",
   "metadata": {},
   "outputs": [],
   "source": [
    "# Projection data\n",
    "income_proj = data.loc[('proj_income', PROJ_YEARS), :]['value']"
   ]
  },
  {
   "cell_type": "markdown",
   "id": "21396090",
   "metadata": {},
   "source": [
    "### Floor space"
   ]
  },
  {
   "cell_type": "code",
   "execution_count": null,
   "id": "635f853a",
   "metadata": {},
   "outputs": [],
   "source": [
    "# First we find mu (income at 50% of satiation)\n",
    "mu_r = -(np.log(2)*income2015)/np.log(1 - res_floor2018/S_R)\n",
    "mu_c = -(np.log(2)*income2015)/np.log(1 - com_floor2018/S_C)\n",
    "\n",
    "# Function for calculating floor space demand given in GCAM docs\n",
    "FS = lambda S, MU, I, P, P_0, BETA : (S - a) * ((1 - np.exp(-(np.log(2)/MU) * I * (P/P_0)**BETA)) + a)\n",
    "\n",
    "res_floor_proj = np.zeros(len(PROJ_YEARS))\n",
    "com_floor_proj = np.zeros(len(PROJ_YEARS))\n",
    "\n",
    "a = 0\n",
    "\n",
    "for index in range(0, len(PROJ_YEARS)):\n",
    "    res_floor_proj[index] = FS(s_r, mu_r, income_proj['value'].tolist()[index], p_res[index], p_res[0])\n",
    "    com_floor_proj[index] = FS(s_c, mu_c, income_proj['value'].tolist()[index], p_com[index], p_com[0])"
   ]
  },
  {
   "cell_type": "markdown",
   "id": "e4241a8d",
   "metadata": {},
   "source": [
    "### Space heating/cooling"
   ]
  },
  {
   "cell_type": "code",
   "execution_count": null,
   "id": "c88e2e3a",
   "metadata": {},
   "outputs": [],
   "source": [
    "D = lambda K, DD, eta, IG, I, MU, p: K*((DD*eta*R)-(IG/3))*(1-np.exp(-(np.log(2)*I)/(MU*p)))\n",
    "\n",
    "res_heat_proj = np.zeros(len(PROJ_YEARS))\n",
    "res_cool_proj = np.zeros(len(PROJ_YEARS))\n",
    "com_heat_proj = np.zeros(len(PROJ_YEARS))\n",
    "com_cool_proj = np.zeros(len(PROJ_YEARS))\n",
    "\n",
    "for x in range(0, len(PROJ_YEARS)):\n",
    "    res_heat_proj[x] = D(K_RH, HDD, eta[x], IG_R2018, income_proj[x], MU_RH, p_res_heat[x])\n",
    "    res_cool_proj[x] = D(K_RC, CDD, eta[x], IG_R2018, income_proj[x], MU_RC, p_res_cool[x])\n",
    "    com_heat_proj[x] = D(K_CH, HDD, eta[x], IG_C2018, income_proj[x], MU_CH, p_com_heat[x])\n",
    "    com_cool_proj[x] = D(K_CC, CDD, eta[x], IG_C2018, income_proj[x], MU_CC, p_com_cool[x])"
   ]
  },
  {
   "cell_type": "markdown",
   "id": "97ce8bea",
   "metadata": {},
   "source": [
    "### Plotting"
   ]
  },
  {
   "cell_type": "code",
   "execution_count": null,
   "id": "5af6dd3c",
   "metadata": {},
   "outputs": [],
   "source": [
    "fig, ax = plt.subplots(figsize = (10, 10))\n",
    "ax.plot(PROJ_YEARS, res_heat_proj, label = 'Residential space heating',\n",
    "        c = 'red',\n",
    "        )\n",
    "ax.plot(PROJ_YEARS, res_cool_proj, label = 'Residential space cooling',\n",
    "        c = 'blue')\n",
    "ax.plot(PROJ_YEARS, com_heat_proj, label = 'Commercial space heating',\n",
    "        c = 'red',\n",
    "        ls = '--')\n",
    "ax.plot(PROJ_YEARS, com_cool_proj, label = 'Commercial space cooling',\n",
    "        c = 'blue',\n",
    "        ls = '--')\n",
    "ax.legend()\n",
    "ax.set(title = 'GCAM Building Projections (Canada)',\n",
    "       xlabel = 'Year',\n",
    "       ylabel = 'Demand per unit floorspace (GJ/m^2)');"
   ]
  },
  {
   "cell_type": "code",
   "execution_count": null,
   "id": "857c43dd",
   "metadata": {},
   "outputs": [],
   "source": [
    "fig, ax = plt.subplots(figsize = (14, 10))\n",
    "ax.plot(income_proj, res_heat_proj,\n",
    "        label = 'Residential space heating',\n",
    "        c = 'red')\n",
    "ax.plot(income_proj, res_cool_proj,\n",
    "        label = 'Residential space cooling',\n",
    "        c = 'blue')\n",
    "ax.plot(income_proj, com_heat_proj,\n",
    "        label = 'Commercial space heating',\n",
    "        c = 'red',\n",
    "        ls = '--')\n",
    "ax.plot(income_proj, com_cool_proj,\n",
    "        label = 'Commerical space cooling',\n",
    "        c = 'blue',\n",
    "        ls = '--')\n",
    "ax.legend()\n",
    "ax.set(title = 'GCAM Building Projections (Canada)',\n",
    "       xlabel = 'Income (2015 USD)',\n",
    "       ylabel = 'Demand per unit floorspace (GJ/m^2)');\n",
    "fig.savefig('Service Demand vs Income.png')"
   ]
  },
  {
   "cell_type": "markdown",
   "id": "d29fb02c",
   "metadata": {},
   "source": [
    "# Testing"
   ]
  },
  {
   "cell_type": "code",
   "execution_count": null,
   "id": "ce914694",
   "metadata": {},
   "outputs": [],
   "source": [
    "elas = pd.read_csv('elasticities.csv',\n",
    "                   index_col = ['sector', 'technology'])"
   ]
  },
  {
   "cell_type": "code",
   "execution_count": null,
   "id": "5cacdb27",
   "metadata": {},
   "outputs": [],
   "source": [
    "\n",
    "\n",
    "elas.loc[()]"
   ]
  },
  {
   "cell_type": "code",
   "execution_count": null,
   "id": "1d0722e5",
   "metadata": {},
   "outputs": [],
   "source": [
    "elas.groupby(level = 'sector').mean()"
   ]
  },
  {
   "cell_type": "markdown",
   "id": "4beb32b3",
   "metadata": {},
   "source": [
    "# OLD CODE"
   ]
  },
  {
   "cell_type": "code",
   "execution_count": null,
   "id": "a679813e",
   "metadata": {},
   "outputs": [],
   "source": [
    "# Historical\n",
    "income_hist_list = income_hist[income_hist['year'] <= 2015]['value'].tolist()\n",
    "res_floor_hist_list = res_floor_hist[res_floor_hist['year'] <= 2015]['value'].tolist()\n",
    "com_floor_hist_list = com_floor_hist[com_floor_hist['year'] <= 2015]['value'].tolist()\n",
    "fig, ax = plt.subplots(figsize = (8, 10))\n",
    "ax.plot(income_hist_list, res_floor_hist_list, color = 'blue', label = 'Residential floor space demand')\n",
    "ax.plot(income_hist_list, com_floor_hist_list, color = 'orange', label = 'Commercial floor space demand')\n",
    "plt.legend()\n",
    "plt.show()\n",
    "\n",
    "# Projection\n",
    "income_proj_list = income_proj['value'].tolist()\n",
    "fig, ax = plt.subplots(figsize = (15, 10))\n",
    "ax.plot(income_proj_list, res_floor_proj, color = 'blue', label = 'Residential floor space projection')\n",
    "ax.scatter(income_proj_list, res_floor_proj, color = 'black')\n",
    "ax.plot(income_proj_list, com_floor_proj, color = 'orange', label = 'Commercial floor space projection')\n",
    "ax.scatter(income_proj_list, com_floor_proj, color = 'black')\n",
    "for i, label in enumerate(proj_years):\n",
    "    plt.annotate(label, (income_proj_list[i], com_floor_proj[i]))\n",
    "plt.xlabel('Income (2015USD/cap)')\n",
    "plt.ylabel('Residential floor space demand (m^2/cap)')\n",
    "plt.legend()\n",
    "plt.show()"
   ]
  },
  {
   "cell_type": "code",
   "execution_count": null,
   "id": "d5444df0",
   "metadata": {},
   "outputs": [],
   "source": [
    "### Service demand for each technology\n",
    "\n",
    "tech_costs = pd.read_csv('building_costs.csv',\n",
    "                        usecols = ['sector|supplysector', 'technology', 'installed cost (2015 USD)', 'lifetime', 'O&M cost (2015 USD)', 'efficiency', 'UEC'],\n",
    "                        ).rename(columns = {'sector|supplysector': 'sector|service'})\n",
    "\n",
    "# Index by sector|service\n",
    "tech_costs = tech_costs.set_index(['sector|service', 'technology']).sort_index()\n",
    "\n",
    "# Multiplying efficiency and consumption to find tech service demands\n",
    "tech_costs['service demand'] = tech_costs['efficiency'] * tech_costs['UEC']\n",
    "\n",
    "# Aggregate data for each sector|service combination\n",
    "indices = list(tech_costs.index)\n",
    "services = set([x[0] for x in indices])\n",
    "sums = [x for x in tech_costs.columns if x != 'lifetime' and x != 'efficiency']\n",
    "\n",
    "for x in services:\n",
    "    tech_costs.loc[(x, 'all'), sums] = tech_costs.loc[(x, slice(None)), sums].sum()\n",
    "\n",
    "tech_costs.sort_index(inplace = True)\n",
    "\n",
    "tech_costs\n",
    "\n",
    "tech_costs.loc[(slice(None), 'all'),'service demand']"
   ]
  }
 ],
 "metadata": {
  "kernelspec": {
   "display_name": "Python 3 (ipykernel)",
   "language": "python",
   "name": "python3"
  },
  "language_info": {
   "codemirror_mode": {
    "name": "ipython",
    "version": 3
   },
   "file_extension": ".py",
   "mimetype": "text/x-python",
   "name": "python",
   "nbconvert_exporter": "python",
   "pygments_lexer": "ipython3",
   "version": "3.9.7"
  }
 },
 "nbformat": 4,
 "nbformat_minor": 5
}
