{
 "cells": [
  {
   "cell_type": "code",
   "execution_count": null,
   "id": "9f5ba68f",
   "metadata": {},
   "outputs": [],
   "source": [
    "import numpy as np\n",
    "import matplotlib.pyplot as plt\n",
    "import pandas as pd"
   ]
  },
  {
   "cell_type": "code",
   "execution_count": 2,
   "id": "52cd7350",
   "metadata": {},
   "outputs": [],
   "source": [
    "data = pd.read_excel('EDGE_data.xlsx')\n",
    "\n",
    "# Projection range\n",
    "proj_years = np.array(list(range(2020, 2101, 5)))"
   ]
  },
  {
   "cell_type": "code",
   "execution_count": 4,
   "id": "264b75f0",
   "metadata": {},
   "outputs": [],
   "source": [
    "# Timestep function\n",
    "f_1 = lambda f_0, I_1, I_0, beta, D_1, D_0 : f_0*((I_1/I_0)**beta)*((D_1/D_0)**-0.03)"
   ]
  },
  {
   "cell_type": "code",
   "execution_count": 5,
   "id": "d3667707",
   "metadata": {},
   "outputs": [],
   "source": [
    "gdp_projection = data[(data['variable'] == 'GDP') & (data['year'] >= 2020)]['value'].tolist()\n",
    "pop_projection = data[(data['variable'] == 'POP') & (data['year'] >= 2020)]['value'].tolist()\n",
    "\n",
    "# Extract income projection from data\n",
    "income_projection = data[(data['variable'] == 'GDP per capita') & (data['source'] == 'derived from SSP database') & (data['year'] >= 2020)]['value'].tolist()\n",
    "\n",
    "# Income start point\n",
    "income_2020 = income_projection[0]\n",
    "\n",
    "# Extract density projection\n",
    "density_projection = data[(data['variable'] == 'POP density') & (data['source'] == 'derived from SSP database') & (data['year'] >= 2020)]['value'].tolist()\n",
    "\n",
    "# Density start\n",
    "density_2020 = density_projection[0]\n",
    "\n",
    "# Elasticities evolve over time horizon\n",
    "income_elasticities = np.linspace(0.42, 0.294, num = len(proj_years))\n",
    "\n",
    "# Create empty array for demand values\n",
    "floor_demands =  np.zeros(len(proj_years))"
   ]
  },
  {
   "cell_type": "code",
   "execution_count": 6,
   "id": "606c8329",
   "metadata": {
    "scrolled": true
   },
   "outputs": [
    {
     "data": {
      "text/plain": [
       "True"
      ]
     },
     "execution_count": 6,
     "metadata": {},
     "output_type": "execute_result"
    }
   ],
   "source": [
    "len(density_projection) == len(floor_demands)"
   ]
  },
  {
   "cell_type": "markdown",
   "id": "30c99eec",
   "metadata": {},
   "source": [
    "# Floor Space Demand"
   ]
  },
  {
   "cell_type": "code",
   "execution_count": null,
   "id": "baf169a1",
   "metadata": {},
   "outputs": [],
   "source": [
    "# Calibrate using parameters from Table SI4 (found by regression)\n",
    "floor_demands[0] = 0.61*(income_2020**0.42)*(density_2020**-0.03)"
   ]
  },
  {
   "cell_type": "code",
   "execution_count": null,
   "id": "359a0762",
   "metadata": {},
   "outputs": [],
   "source": [
    "# Calculate demands\n",
    "for index in range(1,len(proj_years)):\n",
    "    floor_demands[index] = f_1(floor_demands[index-1], income_projection[index], income_projection[index-1], income_elasticities[index], density_projection[index], density_projection[index-1])"
   ]
  },
  {
   "cell_type": "code",
   "execution_count": null,
   "id": "8d690e43",
   "metadata": {},
   "outputs": [],
   "source": [
    "# Ratio of com to res given as 0.35 (for income levels above 20k, which all in projection are)\n",
    "res_floor_demands = floor_demands\n",
    "com_floor_demands = res_floor_demands * 0.35"
   ]
  },
  {
   "cell_type": "code",
   "execution_count": null,
   "id": "2aa423d7",
   "metadata": {},
   "outputs": [],
   "source": [
    "# Plotting data\n",
    "plt.plot(proj_years, res_floor_demands, color = 'red', label = 'Residential')\n",
    "plt.plot(proj_years, com_floor_demands, color = 'blue', label = 'Commercial')\n",
    "plt.title('EDGE Projection of Floor Space Demand (Canada)')\n",
    "plt.xlabel('Year')\n",
    "plt.ylabel('Floor Space Demand (people/sq. km)')\n",
    "plt.legend()\n",
    "plt.show()"
   ]
  },
  {
   "cell_type": "code",
   "execution_count": null,
   "id": "de1271c6",
   "metadata": {},
   "outputs": [],
   "source": [
    "# Save results and input for testing other functions\n",
    "np.save('com_floor_demands', com_floor_demands)\n",
    "np.save('res_floor_demands', res_floor_demands)\n",
    "np.save('income_projection', income_projection)\n",
    "np.save('density_projection', density_projection)"
   ]
  },
  {
   "cell_type": "markdown",
   "id": "ccdebe3d",
   "metadata": {},
   "source": [
    "# Space heating/cooling demand"
   ]
  },
  {
   "cell_type": "code",
   "execution_count": null,
   "id": "e2312a51",
   "metadata": {},
   "outputs": [],
   "source": [
    "# HDD and CDD estimates from figure in EDGE source\n",
    "\n",
    "hdd_projection = np.linspace(1300, 725, num = len(proj_years))\n",
    "cdd_projection = np.linspace(1250, 1800, num = len(proj_years))\n",
    "gamma = np.linspace(1, 0.7, num = len(proj_years))"
   ]
  },
  {
   "cell_type": "code",
   "execution_count": null,
   "id": "8d6d1f56",
   "metadata": {},
   "outputs": [],
   "source": [
    "SH = lambda F, y, hdd, cdd: F*y*(0.45 + np.exp(1.4 + (-5e-4)*(hdd+cdd)))*0.07*hdd\n",
    "space_heating = np.zeros(len(proj_years))\n",
    "\n",
    "for index in range(0, len(proj_years)):\n",
    "    space_heating[index] = SH(floor_demands[index], gamma[index], hdd_projection[index], cdd_projection[index])\n",
    "    "
   ]
  },
  {
   "cell_type": "code",
   "execution_count": null,
   "id": "fdc5aedb",
   "metadata": {},
   "outputs": [],
   "source": [
    "plt.plot(proj_years, space_heating)\n",
    "plt.title('Space heating demand in EDGE')\n",
    "plt.show()"
   ]
  },
  {
   "cell_type": "code",
   "execution_count": null,
   "id": "91b9a48b",
   "metadata": {},
   "outputs": [],
   "source": [
    "SC = lambda F, y, hdd, cdd, I : F*y*(0.45 + np.exp(1.4 + (-5e-4)*(hdd+cdd)))*cdd*(1-(0.949*np.exp(-0.0018*cdd)))*(0.16/(1 + np.exp((20950 - I)/3774)))\n",
    "space_cooling = np.zeros(len(proj_years))\n",
    "\n",
    "for index in range (0, len(proj_years)):\n",
    "    space_cooling[index] = SC(floor_demands[index], gamma[index], hdd_projection[index], cdd_projection[index], income_projection[index])"
   ]
  },
  {
   "cell_type": "code",
   "execution_count": null,
   "id": "545ca35f",
   "metadata": {
    "scrolled": true
   },
   "outputs": [],
   "source": [
    "plt.plot(proj_years, space_cooling)\n",
    "plt.title('Space cooling demand in EDGE')"
   ]
  },
  {
   "cell_type": "markdown",
   "id": "a2ea874b",
   "metadata": {},
   "source": [
    "# Appliances and Lighting"
   ]
  },
  {
   "cell_type": "code",
   "execution_count": null,
   "id": "6ee3430d",
   "metadata": {},
   "outputs": [],
   "source": [
    "AL = lambda I : np.exp(-7 + 0.3*(np.log(I) + (1/np.sqrt(I))))\n",
    "appliances = np.zeros(len(proj_years))\n",
    "\n",
    "for index in range (0, len(proj_years)):\n",
    "    appliances[index] = AL(income_projection[index])\n",
    "\n",
    "# Convert to MJ\n",
    "appliances = appliances * 1e6"
   ]
  },
  {
   "cell_type": "code",
   "execution_count": null,
   "id": "9d8c2442",
   "metadata": {
    "scrolled": true
   },
   "outputs": [],
   "source": [
    "plt.plot(proj_years, appliances)\n",
    "plt.title('Appliances and lighting demand in EDGE')"
   ]
  },
  {
   "cell_type": "markdown",
   "id": "6cce1d66",
   "metadata": {},
   "source": [
    "# Water heating"
   ]
  },
  {
   "cell_type": "code",
   "execution_count": null,
   "id": "4b98a1cf",
   "metadata": {},
   "outputs": [],
   "source": [
    "phi_1 = np.linspace(8.19, 8.19*0.6, num = len(proj_years))\n",
    "\n",
    "WH = lambda phi_1, I : phi_1*(1 + np.exp((24258 - I)/8622))\n",
    "water_heating = np.zeros(len(proj_years))\n",
    "\n",
    "for index in range(0, len(proj_years)):\n",
    "    water_heating[index] = WH(phi_1[index], income_projection[index])\n",
    "\n",
    "# Convert to MJ\n",
    "water_heating = water_heating * 1e3"
   ]
  },
  {
   "cell_type": "code",
   "execution_count": null,
   "id": "f3bdc9e7",
   "metadata": {
    "scrolled": true
   },
   "outputs": [],
   "source": [
    "plt.plot(proj_years, water_heating)\n",
    "plt.title('Water heating demand in EDGE')"
   ]
  },
  {
   "cell_type": "markdown",
   "id": "dfeead6e",
   "metadata": {},
   "source": [
    "# Cooking"
   ]
  },
  {
   "cell_type": "code",
   "execution_count": null,
   "id": "34b10eb5",
   "metadata": {},
   "outputs": [],
   "source": [
    "cooking = np.empty(len(proj_years))\n",
    "cooking.fill(1.76)\n",
    "\n",
    "# Convert to MJ\n",
    "cooking = cooking * 1e3"
   ]
  },
  {
   "cell_type": "markdown",
   "id": "07c1d7de",
   "metadata": {},
   "source": [
    "# Aggregate all demands"
   ]
  },
  {
   "cell_type": "code",
   "execution_count": null,
   "id": "8e10f3f5",
   "metadata": {},
   "outputs": [],
   "source": [
    "usefuls = {'Space Heating': space_heating, 'Space Cooling': space_cooling, 'Appliances and Lighting': appliances, 'Water Heating': water_heating, 'Cooking': cooking}\n",
    "useful_energy = space_heating + space_cooling + water_heating + appliances"
   ]
  },
  {
   "cell_type": "code",
   "execution_count": null,
   "id": "836494e5",
   "metadata": {},
   "outputs": [],
   "source": [
    "plt.plot(proj_years, useful_energy)\n",
    "plt.title('Useful energy demand in EDGE')"
   ]
  },
  {
   "cell_type": "code",
   "execution_count": null,
   "id": "7a7f3d8d",
   "metadata": {},
   "outputs": [],
   "source": [
    "plt.figure(figsize = (20,20))\n",
    "plt.rc('font', size = 25)\n",
    "plt.plot(gdp_projection, useful_energy)\n",
    "ax = plt.gca()\n",
    "plt.scatter(gdp_projection, useful_energy)\n",
    "for i, label in enumerate(proj_years):\n",
    "    plt.annotate(label, (gdp_projection[i], useful_energy[i]))\n",
    "plt.ylabel('Useful energy (MJ/cap)')\n",
    "plt.xlabel('GDP (billion 2005 USD)')\n",
    "plt.title('EDGE useful energy demand (Canada)')\n",
    "plt.savefig('edge_useful.jpg')\n",
    "plt.show()"
   ]
  },
  {
   "cell_type": "markdown",
   "id": "5a630732",
   "metadata": {},
   "source": [
    "# Final to Useful Conversion"
   ]
  },
  {
   "cell_type": "code",
   "execution_count": null,
   "id": "519185b5",
   "metadata": {},
   "outputs": [],
   "source": [
    "# Conversion efficiencies\n",
    "elec_conv = \n"
   ]
  },
  {
   "cell_type": "code",
   "execution_count": null,
   "id": "2dc5449c",
   "metadata": {},
   "outputs": [],
   "source": [
    "sh_wh_carriers = {'Electricity': 0.4, 'Other Grids': 0.5, 'Liquids/Modern Biomass': 0.1}\n",
    "sc_carriers = {'Electricity': 0.9, 'Other Grids': 0.1}\n",
    "app_carriers = {'Electricity': 1}\n",
    "\n",
    "FE = lambda ue, eff, share : (ue/np.sum(eff*share))\n",
    "\n",
    "FE_sh = np.zeros(len(proj_years))\n",
    "\n",
    "# for index in range(0, len(proj_years)):\n",
    "#     FE_sh[index] = FE(space_heating\n"
   ]
  }
 ],
 "metadata": {
  "kernelspec": {
   "display_name": "Python 3 (ipykernel)",
   "language": "python",
   "name": "python3"
  },
  "language_info": {
   "codemirror_mode": {
    "name": "ipython",
    "version": 3
   },
   "file_extension": ".py",
   "mimetype": "text/x-python",
   "name": "python",
   "nbconvert_exporter": "python",
   "pygments_lexer": "ipython3",
   "version": "3.8.12"
  }
 },
 "nbformat": 4,
 "nbformat_minor": 5
}
